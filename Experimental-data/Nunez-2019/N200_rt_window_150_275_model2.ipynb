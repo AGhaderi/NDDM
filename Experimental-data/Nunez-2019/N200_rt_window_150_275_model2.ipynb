{
 "cells": [
  {
   "cell_type": "code",
   "execution_count": 108,
   "id": "6fb77f00-e4af-4ae7-bafa-06d7d720e9e3",
   "metadata": {},
   "outputs": [],
   "source": [
    "import os\n",
    "import numpy as np\n",
    "import pandas as pd\n",
    "from scipy import stats\n",
    "from time import time\n",
    "import matplotlib.pyplot as plt\n",
    "\n",
    "from numba import njit\n",
    "import tensorflow as tf\n",
    "\n",
    "import sys\n",
    "sys.path.append('../../../')\n",
    "from bayesflow.networks import InvertibleNetwork, InvariantNetwork\n",
    "from bayesflow.amortizers import SingleModelAmortizer\n",
    "from bayesflow.trainers import ParameterEstimationTrainer\n",
    "from bayesflow.diagnostics import *\n",
    "from bayesflow.models import GenerativeModel"
   ]
  },
  {
   "cell_type": "code",
   "execution_count": 109,
   "id": "e95ad5c1-0aa7-4798-91dd-b147f243e1de",
   "metadata": {},
   "outputs": [
    {
     "name": "stdout",
     "output_type": "stream",
     "text": [
      "Networks loaded from ../../checkpoint/N200_single_trial_gamma_wider/ckpt-500\n"
     ]
    }
   ],
   "source": [
    "def prior(batch_size):\n",
    "    \"\"\"\n",
    "    Samples from the prior 'batch_size' times.\n",
    "    ----------\n",
    "\n",
    "    Arguments:\n",
    "    batch_size : int -- the number of samples to draw from the prior\n",
    "    ----------\n",
    "\n",
    "    Output:\n",
    "    theta : np.ndarray of shape (batch_size, theta_dim) -- the samples batch of parameters\n",
    "    \"\"\"\n",
    "\n",
    "    # Prior ranges for the simulator\n",
    "    # drift ~ U(-3.0, 3.0)\n",
    "    # boundary ~ U(0.5, 4.0)\n",
    "    # beta ~ U(0.1, 0.9)  # relative start point\n",
    "    # mu_tau_e ~ U(0.05, 0.6)\n",
    "    # tau_m ~ U(0.06, 0.8)\n",
    "    # sigma ~ U(0, 0.3)\n",
    "    # varsigma ~ U(0, 0.3)\n",
    "    # gamma ~ U(.5, 4)\n",
    "    n_parameters = 8\n",
    "    p_samples = np.random.uniform(low=(-3.0, 0.5, 0.1, 0.05, 0.06, 0.0, 0.0, 0),\n",
    "                                  high=(3.0, 2.0, 0.9, 0.6,  0.8,  0.3, 0.3, 3), size=(batch_size, n_parameters))\n",
    "    return p_samples.astype(np.float32)\n",
    "\n",
    "@njit\n",
    "def diffusion_trial(drift, boundary, beta, mu_tau_e, tau_m, sigma, varsigma, gamma, dc=1.0, dt=.001):\n",
    "    \"\"\"Simulates a trial from the diffusion model.\"\"\"\n",
    "\n",
    "    n_steps = 0.\n",
    "    evidence = boundary * beta\n",
    "    \n",
    "    # Simulate a single DM path\n",
    "    while (evidence > 0 and evidence < boundary):\n",
    "\n",
    "        # DDM equation\n",
    "        evidence += drift*dt + np.sqrt(dt) * dc * np.random.normal()\n",
    "\n",
    "        # Increment step\n",
    "        n_steps += 1.0\n",
    "\n",
    "    rt = n_steps * dt\n",
    "\n",
    "    \n",
    "    # visual encoding time for each trial\n",
    "    tau_e_trial = np.random.normal(mu_tau_e, varsigma)\n",
    "\n",
    "    # N200 latency\n",
    "    z = np.random.normal(gamma*tau_e_trial, sigma)\n",
    "    \n",
    "    if evidence >= boundary:\n",
    "        choicert =  tau_e_trial + rt + tau_m\n",
    "        \n",
    "    else:\n",
    "        choicert = -tau_e_trial - rt - tau_m\n",
    "    return choicert, z\n",
    "\n",
    "@njit\n",
    "def diffusion_condition(params, n_trials):\n",
    "    \"\"\"Simulates a diffusion process over an entire condition.\"\"\"\n",
    "\n",
    "    drift, boundary, beta, mu_tau_e, tau_m, sigma, varsigma, gamma = params\n",
    "    choicert = np.empty(n_trials)\n",
    "    z = np.empty(n_trials)\n",
    "    for i in range(n_trials):\n",
    "        choicert[i], z[i] = diffusion_trial(drift, boundary, beta, mu_tau_e, tau_m, sigma, varsigma, gamma)\n",
    "    return choicert, z\n",
    "\n",
    "def batch_simulator(prior_samples, n_obs, dt=0.005, s=1.0):\n",
    "    \"\"\"\n",
    "    Simulate multiple diffusion_model_datasets.\n",
    "    \"\"\"\n",
    "\n",
    "    n_sim = prior_samples.shape[0]\n",
    "    sim_choicert = np.empty((n_sim, n_obs), dtype=np.float32)\n",
    "    sim_z = np.empty((n_sim, n_obs), dtype=np.float32)\n",
    "\n",
    "    # Simulate diffusion data\n",
    "    for i in range(n_sim):\n",
    "        sim_choicert[i], sim_z[i] = diffusion_condition(prior_samples[i], n_obs)\n",
    "\n",
    "    # For some reason BayesFlow wants there to be at least two data dimensions\n",
    "    sim_data = np.stack([sim_choicert, sim_z], axis=-1)\n",
    "    return sim_data\n",
    "\n",
    "# Connect the networks through a SingleModelAmortizer instance.\n",
    "summary_net = InvariantNetwork()\n",
    "inference_net = InvertibleNetwork({'n_params': 8})\n",
    "amortizer = SingleModelAmortizer(inference_net, summary_net)\n",
    "\n",
    "# Connect the prior and simulator through a GenerativeModel class which will take care of forward inference.\n",
    "generative_model = GenerativeModel(prior, batch_simulator)\n",
    "\n",
    "trainer = ParameterEstimationTrainer(\n",
    "    network=amortizer,\n",
    "    generative_model=generative_model,\n",
    "    checkpoint_path=\"../../checkpoint/N200_single_trial_gamma_wider\"\n",
    ")"
   ]
  },
  {
   "cell_type": "code",
   "execution_count": 110,
   "id": "d632c828-3eb3-45b8-9288-26a07519f936",
   "metadata": {
    "tags": []
   },
   "outputs": [],
   "source": [
    "# Nunez 2019 data\n",
    "data = pd.read_csv('N200_rt_window_150_275.csv')\n",
    "\n",
    "exps = 2\n",
    "parts = 13\n",
    "data = data[(data[' True Subject Index'] == parts) & (data[' Experiment'] == exps)]"
   ]
  },
  {
   "cell_type": "code",
   "execution_count": 111,
   "id": "bb025bb9-93c6-472c-954c-86a14868085c",
   "metadata": {
    "tags": []
   },
   "outputs": [],
   "source": [
    "# Convert 0,1 accuracy to -1,1 code\n",
    "data[' Accuracy'] = data[' Accuracy'].replace(0,-1)\n",
    "# Two different responses, [rt, N200 latency]\n",
    "data_rt_z = np.array([(data[' RT']/1000)*data[' Accuracy'], data['# Single-trial N200 latencies']/1000]).T"
   ]
  },
  {
   "cell_type": "code",
   "execution_count": 112,
   "id": "eacff248-16a4-443e-b7c3-3e5c592016cb",
   "metadata": {
    "tags": []
   },
   "outputs": [],
   "source": [
    "# Validate (quick and dirty) by a specific real data\n",
    "n_samples = 5000\n",
    "\n",
    "param_samples_real_data = amortizer.sample(data_rt_z.reshape(1,data.shape[0],2), n_samples=n_samples)"
   ]
  },
  {
   "cell_type": "code",
   "execution_count": 113,
   "id": "1c46af49-1090-4aa8-a57a-2956ee83d943",
   "metadata": {},
   "outputs": [
    {
     "name": "stdout",
     "output_type": "stream",
     "text": [
      "['drift', 'boundary', 'beta', 'mu_tau_e', 'mu_tau_m', 'sigma', 'varsigma', 'gamma']\n"
     ]
    },
    {
     "data": {
      "text/plain": [
       "array([1.0264128 , 0.9907569 , 0.68625665, 0.31253776, 0.15749064,\n",
       "       0.00909944, 0.02023222, 0.6409733 ], dtype=float32)"
      ]
     },
     "execution_count": 113,
     "metadata": {},
     "output_type": "execute_result"
    }
   ],
   "source": [
    "print(['drift', 'boundary', 'beta', 'mu_tau_e', 'mu_tau_m', 'sigma', 'varsigma', 'gamma']),\n",
    "param_samples_real_data.mean(axis=0)"
   ]
  },
  {
   "cell_type": "code",
   "execution_count": 114,
   "id": "6c12fe3f-08dd-4aab-8fdf-419a6ed7d069",
   "metadata": {},
   "outputs": [
    {
     "name": "stdout",
     "output_type": "stream",
     "text": [
      "['drift', 'boundary', 'beta', 'mu_tau_e', 'mu_tau_m', 'sigma', 'varsigma', 'gamma']\n"
     ]
    },
    {
     "data": {
      "text/plain": [
       "array([0.08672108, 0.02955845, 0.02362753, 0.02788113, 0.02378589,\n",
       "       0.0070675 , 0.004191  , 0.06741278], dtype=float32)"
      ]
     },
     "execution_count": 114,
     "metadata": {},
     "output_type": "execute_result"
    }
   ],
   "source": [
    "print(['drift', 'boundary', 'beta', 'mu_tau_e', 'mu_tau_m', 'sigma', 'varsigma', 'gamma']),\n",
    "param_samples_real_data.std(axis=0)"
   ]
  },
  {
   "cell_type": "code",
   "execution_count": 119,
   "id": "26539467-00f7-4474-b53a-60d8dab3e8ea",
   "metadata": {},
   "outputs": [],
   "source": [
    "# the amount of variance in single-trial EEG related to cognition\n",
    "ratio = (param_samples_real_data[:,6]**2*param_samples_real_data[:,7]**2)/(param_samples_real_data[:,6]**2*param_samples_real_data[:, 7]**2 + param_samples_real_data[:, 5]**2)"
   ]
  },
  {
   "cell_type": "code",
   "execution_count": 120,
   "id": "195eb8b7-f47b-4957-bf50-cd0d7b803a04",
   "metadata": {},
   "outputs": [
    {
     "data": {
      "text/plain": [
       "(0.6633391, 0.2377955)"
      ]
     },
     "execution_count": 120,
     "metadata": {},
     "output_type": "execute_result"
    }
   ],
   "source": [
    "ratio.mean(), ratio.std()"
   ]
  },
  {
   "cell_type": "code",
   "execution_count": 86,
   "id": "25aa43c0-0333-46b7-80f2-1470f3c5c4c1",
   "metadata": {},
   "outputs": [],
   "source": [
    "x_predict = batch_simulator(param_samples_real_data, 2000).astype(np.float32)"
   ]
  },
  {
   "cell_type": "code",
   "execution_count": 114,
   "id": "41333497-68ad-4a18-8c85-b03d7cbf6a12",
   "metadata": {},
   "outputs": [
    {
     "name": "stderr",
     "output_type": "stream",
     "text": [
      "/home/a.ghaderi/.conda/envs/envjm/lib/python3.7/site-packages/seaborn/distributions.py:2619: FutureWarning: `distplot` is a deprecated function and will be removed in a future version. Please adapt your code to use either `displot` (a figure-level function with similar flexibility) or `histplot` (an axes-level function for histograms).\n",
      "  warnings.warn(msg, FutureWarning)\n"
     ]
    },
    {
     "data": {
      "text/plain": [
       "<AxesSubplot:ylabel='Density'>"
      ]
     },
     "execution_count": 114,
     "metadata": {},
     "output_type": "execute_result"
    },
    {
     "data": {
      "image/png": "[encoded data removed]",
      "text/plain": [
       "<Figure size 432x288 with 1 Axes>"
      ]
     },
     "metadata": {
      "needs_background": "light"
     },
     "output_type": "display_data"
    }
   ],
   "source": [
    "sns.distplot(1000*np.abs(data_rt_z[:,1]), bins =25)"
   ]
  },
  {
   "cell_type": "code",
   "execution_count": 115,
   "id": "88b778d7-9ae5-407a-ae01-e2857bf5bdff",
   "metadata": {},
   "outputs": [
    {
     "name": "stderr",
     "output_type": "stream",
     "text": [
      "/home/a.ghaderi/.conda/envs/envjm/lib/python3.7/site-packages/seaborn/distributions.py:2619: FutureWarning: `distplot` is a deprecated function and will be removed in a future version. Please adapt your code to use either `displot` (a figure-level function with similar flexibility) or `kdeplot` (an axes-level function for kernel density plots).\n",
      "  warnings.warn(msg, FutureWarning)\n"
     ]
    },
    {
     "data": {
      "image/png": "[encoded data removed]",
      "text/plain": [
       "<Figure size 576x360 with 1 Axes>"
      ]
     },
     "metadata": {
      "needs_background": "light"
     },
     "output_type": "display_data"
    }
   ],
   "source": [
    "plt.figure(figsize=(8,5))\n",
    "plt.hist(1000*np.abs(data_rt_z[:,1]), density= True, bins =25)\n",
    "sns.distplot(1000*np.abs(x_predict[:,:,1]).flatten(), hist=False)\n",
    "plt.xlabel('Time (msec)')\n",
    "plt.legend(['Obserbed N200 latencies', 'Predicted N200 latenices'])\n",
    "sns.despine()"
   ]
  },
  {
   "cell_type": "code",
   "execution_count": 116,
   "id": "17773b9c-2674-4a07-b1ed-46922d2b9838",
   "metadata": {},
   "outputs": [
    {
     "name": "stderr",
     "output_type": "stream",
     "text": [
      "/home/a.ghaderi/.conda/envs/envjm/lib/python3.7/site-packages/seaborn/distributions.py:2619: FutureWarning: `distplot` is a deprecated function and will be removed in a future version. Please adapt your code to use either `displot` (a figure-level function with similar flexibility) or `kdeplot` (an axes-level function for kernel density plots).\n",
      "  warnings.warn(msg, FutureWarning)\n"
     ]
    },
    {
     "data": {
      "image/png": "[encoded data removed]",
      "text/plain": [
       "<Figure size 576x360 with 1 Axes>"
      ]
     },
     "metadata": {
      "needs_background": "light"
     },
     "output_type": "display_data"
    }
   ],
   "source": [
    "plt.figure(figsize=(8,5))\n",
    "ax = plt.subplot()\n",
    "plt.hist(1000*data_rt_z[:,0], density=True, bins = 40)\n",
    "sns.distplot(1000*x_predict.reshape(-1,2)[:,0], hist=False)\n",
    "plt.legend(['Observed RT','Predicted RT'])\n",
    "plt.xlabel('Time (msec)')\n",
    "ax.set_xlim([-2000,2000])\n",
    "sns.despine()"
   ]
  },
  {
   "cell_type": "code",
   "execution_count": null,
   "id": "0d65b81a-8c4a-4e32-b01d-86cb7e81f4a1",
   "metadata": {},
   "outputs": [],
   "source": []
  }
 ],
 "metadata": {
  "kernelspec": {
   "display_name": "Python 3",
   "language": "python",
   "name": "python3"
  },
  "language_info": {
   "codemirror_mode": {
    "name": "ipython",
    "version": 3
   },
   "file_extension": ".py",
   "mimetype": "text/x-python",
   "name": "python",
   "nbconvert_exporter": "python",
   "pygments_lexer": "ipython3",
   "version": "3.7.10"
  }
 },
 "nbformat": 4,
 "nbformat_minor": 5
}
