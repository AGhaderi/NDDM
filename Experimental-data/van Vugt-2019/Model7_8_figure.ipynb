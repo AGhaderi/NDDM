{
 "cells": [
  {
   "cell_type": "code",
   "execution_count": 1,
   "id": "6fb77f00-e4af-4ae7-bafa-06d7d720e9e3",
   "metadata": {},
   "outputs": [],
   "source": [
    "import os\n",
    "import numpy as np\n",
    "import pandas as pd\n",
    "from scipy import stats\n",
    "from time import time\n",
    "import matplotlib.pyplot as plt\n",
    "\n",
    "from numba import njit\n",
    "import tensorflow as tf\n",
    "\n",
    "import sys\n",
    "sys.path.append('../../../')\n",
    "from bayesflow.networks import InvertibleNetwork, InvariantNetwork\n",
    "from bayesflow.amortizers import SingleModelAmortizer\n",
    "from bayesflow.trainers import ParameterEstimationTrainer\n",
    "from bayesflow.diagnostics import *\n",
    "from bayesflow.models import GenerativeModel\n",
    "import scipy.io as sio"
   ]
  },
  {
   "cell_type": "code",
   "execution_count": 44,
   "id": "87db8bbf-bf55-4555-aaae-38d11946b7a4",
   "metadata": {},
   "outputs": [],
   "source": [
    "parts = 'ACC024'\n",
    "data_slope = sio.loadmat('Data/'+parts+'/CPPslopes2.mat')\n",
    "data_beh = sio.loadmat('Data/'+parts+'/'+parts+'forDMA.mat')"
   ]
  },
  {
   "cell_type": "code",
   "execution_count": 45,
   "id": "3bf21dd5-adb8-464c-9d48-253f54b8ee72",
   "metadata": {},
   "outputs": [
    {
     "name": "stdout",
     "output_type": "stream",
     "text": [
      "dict_keys(['__header__', '__version__', '__globals__', 'highSlopesM', 'highSlopesP', 'lowSlopesM', 'lowSlopesP', 'memTrials', 'percTrials', 'trialSlopes', 'datMat', 'modResults', 'TerM', 'TerP', 'driftRatesM', 'driftRatesP', 'thresholdsM', 'thresholdsP', '__function_workspace__'])\n"
     ]
    }
   ],
   "source": [
    "print(data_slope.keys())"
   ]
  },
  {
   "cell_type": "markdown",
   "id": "7267050b-f5f6-490c-bbae-13172f127cb5",
   "metadata": {},
   "source": [
    "### Model 7"
   ]
  },
  {
   "cell_type": "code",
   "execution_count": 46,
   "id": "d640b2c5-d9e4-4459-a9ef-c519ec0fd01c",
   "metadata": {},
   "outputs": [
    {
     "name": "stdout",
     "output_type": "stream",
     "text": [
      "Networks loaded from ../../checkpoint/CPP_single_trial_sigma_eta/ckpt-500\n"
     ]
    }
   ],
   "source": [
    "def prior(batch_size):\n",
    "    \"\"\"\n",
    "    Samples from the prior 'batch_size' times.\n",
    "    ----------\n",
    "\n",
    "    Arguments:\n",
    "    batch_size : int -- the number of samples to draw from the prior\n",
    "    ----------\n",
    "\n",
    "    Output:\n",
    "    theta : np.ndarray of shape (batch_size, theta_dim) -- the samples batch of parameters\n",
    "    \"\"\"\n",
    "\n",
    "    # Prior ranges for the simulator\n",
    "    # mu_drift ~ U(-3.0, 3.0)\n",
    "    # boundary ~ U(0.5, 4.0)\n",
    "    # beta ~ U(0.1, 0.9)  # relative start point\n",
    "    # tau ~ U(0.1, 1.0)\n",
    "    # sigma ~ ~ U(.5, 4) # is 1/lambda\n",
    "    # Eta ~ U(0.0, 1.0)\n",
    "    n_parameters = 6\n",
    "    p_samples = np.random.uniform(low=(0.01,  0.5, 0.1, 0.1, 0.0, 0.00),\n",
    "                                  high=(3.0, 2.0,  0.9, 1.0, 2.0,  2.0), size=(batch_size, n_parameters))\n",
    "    return p_samples.astype(np.float32)\n",
    "\n",
    "@njit\n",
    "def diffusion_trial(mu_drift, boundary, beta, tau, sigma, eta, dc=1.0, dt=.005):\n",
    "    \"\"\"Simulates a trial from the diffusion model.\"\"\"\n",
    "\n",
    "    n_steps = 0.\n",
    "    evidence = boundary * beta\n",
    "    \n",
    "    # trial-to-trial drift rate variability\n",
    "    drift_trial = mu_drift + eta * np.random.normal()\n",
    "    \n",
    "    # Simulate a single DM path\n",
    "    while (evidence > 0 and evidence < boundary):\n",
    "\n",
    "        # DDM equation\n",
    "        evidence += drift_trial*dt + np.sqrt(dt) * dc * np.random.normal()\n",
    "\n",
    "        # Increment step\n",
    "        n_steps += 1.0\n",
    "\n",
    "    rt = n_steps * dt\n",
    "\n",
    "    \n",
    "    # CPP slope\n",
    "    cpp = np.random.normal(drift_trial, sigma)\n",
    "\n",
    "    \n",
    "    if evidence >= boundary:\n",
    "        choicert =  tau + rt\n",
    "        \n",
    "    else:\n",
    "        choicert = -tau - rt\n",
    "    return choicert, cpp\n",
    "\n",
    "@njit\n",
    "def diffusion_condition(params, n_trials):\n",
    "    \"\"\"Simulates a diffusion process over an entire condition.\"\"\"\n",
    "\n",
    "    mu_drift, boundary, beta, tau, sigma, eta = params\n",
    "    choicert = np.empty(n_trials)\n",
    "    z = np.empty(n_trials)\n",
    "    for i in range(n_trials):\n",
    "        choicert[i], z[i] = diffusion_trial(mu_drift, boundary, beta, tau, sigma, eta)\n",
    "    return choicert, z\n",
    "\n",
    "def batch_simulator(prior_samples, n_obs):\n",
    "    \"\"\"\n",
    "    Simulate multiple diffusion_model_datasets.\n",
    "    \"\"\"\n",
    "\n",
    "    n_sim = prior_samples.shape[0]\n",
    "    sim_choicert = np.empty((n_sim, n_obs), dtype=np.float32)\n",
    "    sim_z = np.empty((n_sim, n_obs), dtype=np.float32)\n",
    "\n",
    "    # Simulate diffusion data\n",
    "    for i in range(n_sim):\n",
    "        sim_choicert[i], sim_z[i] = diffusion_condition(prior_samples[i], n_obs)\n",
    "\n",
    "    # For some reason BayesFlow wants there to be at least two data dimensions\n",
    "    sim_data = np.stack([sim_choicert, sim_z], axis=-1)\n",
    "    return sim_data\n",
    "\n",
    "# Connect the networks through a SingleModelAmortizer instance.\n",
    "summary_net = InvariantNetwork()\n",
    "inference_net = InvertibleNetwork({'n_params': 6})\n",
    "amortizer = SingleModelAmortizer(inference_net, summary_net)\n",
    "\n",
    "# Connect the prior and simulator through a GenerativeModel class which will take care of forward inference.\n",
    "generative_model = GenerativeModel(prior, batch_simulator)\n",
    "\n",
    "trainer = ParameterEstimationTrainer(\n",
    "    network=amortizer,\n",
    "    generative_model=generative_model,\n",
    "    checkpoint_path=\"../../checkpoint/CPP_single_trial_sigma_eta\"\n",
    ")"
   ]
  },
  {
   "cell_type": "code",
   "execution_count": 47,
   "id": "76e4852a-ed5e-4f0e-bdb7-f26fd61c84e0",
   "metadata": {},
   "outputs": [],
   "source": [
    "# Response time and CPP\n",
    "response_time = (2*data_beh['datOut'][:,1]-1)*(data_beh['datOut'][:,2])\n",
    "CPP = data_slope['trialSlopes'][:,0]\n",
    "\n",
    "# Memroy and Perceptual indecies \n",
    "mem = data_beh['datOut'][:,0]==2\n",
    "perc = data_beh['datOut'][:,0]==1\n",
    "\n",
    "data_mem_rt_cpp = np.array([response_time[mem], CPP[mem]]).T\n",
    "data_perc_rt_cpp = np.array([response_time[perc], CPP[perc]]).T"
   ]
  },
  {
   "cell_type": "code",
   "execution_count": 48,
   "id": "eacff248-16a4-443e-b7c3-3e5c592016cb",
   "metadata": {
    "tags": []
   },
   "outputs": [
    {
     "name": "stdout",
     "output_type": "stream",
     "text": [
      "WARNING:tensorflow:Unresolved object in checkpoint: (root).optimizer.iter\n",
      "WARNING:tensorflow:Unresolved object in checkpoint: (root).optimizer.beta_1\n",
      "WARNING:tensorflow:Unresolved object in checkpoint: (root).optimizer.beta_2\n",
      "WARNING:tensorflow:Unresolved object in checkpoint: (root).optimizer.decay\n",
      "WARNING:tensorflow:Unresolved object in checkpoint: (root).optimizer.learning_rate\n",
      "WARNING:tensorflow:A checkpoint was restored (e.g. tf.train.Checkpoint.restore or tf.keras.Model.load_weights) but not all checkpointed values were used. See above for specific issues. Use expect_partial() on the load status object, e.g. tf.train.Checkpoint.restore(...).expect_partial(), to silence these warnings, or use assert_consumed() to make the check explicit. See https://www.tensorflow.org/guide/checkpoint#loading_mechanics for details.\n",
      "WARNING:tensorflow:Unresolved object in checkpoint: (root).optimizer.iter\n",
      "WARNING:tensorflow:Unresolved object in checkpoint: (root).optimizer.beta_1\n",
      "WARNING:tensorflow:Unresolved object in checkpoint: (root).optimizer.beta_2\n",
      "WARNING:tensorflow:Unresolved object in checkpoint: (root).optimizer.decay\n",
      "WARNING:tensorflow:Unresolved object in checkpoint: (root).optimizer.learning_rate\n",
      "WARNING:tensorflow:A checkpoint was restored (e.g. tf.train.Checkpoint.restore or tf.keras.Model.load_weights) but not all checkpointed values were used. See above for specific issues. Use expect_partial() on the load status object, e.g. tf.train.Checkpoint.restore(...).expect_partial(), to silence these warnings, or use assert_consumed() to make the check explicit. See https://www.tensorflow.org/guide/checkpoint#loading_mechanics for details.\n"
     ]
    }
   ],
   "source": [
    "# Validate (quick and dirty) by a specific real data\n",
    "n_param_sets = 1000\n",
    "n_samples = 1000\n",
    "\n",
    "model7_param_samples_mem_rt_cpp = amortizer.sample(data_mem_rt_cpp.reshape(1,data_mem_rt_cpp.shape[0],2), n_samples=n_samples)\n",
    "model7_param_samples_perc_rt_cpp = amortizer.sample(data_perc_rt_cpp.reshape(1,data_perc_rt_cpp.shape[0],2), n_samples=n_samples)"
   ]
  },
  {
   "cell_type": "code",
   "execution_count": 49,
   "id": "fc8f3173-dce8-44c7-90c1-add62d008506",
   "metadata": {},
   "outputs": [
    {
     "name": "stdout",
     "output_type": "stream",
     "text": [
      "['mu_drift', 'boundary', 'beta', 'tau', 'sigma', 'eta']\n"
     ]
    },
    {
     "data": {
      "text/plain": [
       "array([0.07110305, 1.4999669 , 0.5857079 , 0.4730065 , 0.17658205,\n",
       "       0.05927143], dtype=float32)"
      ]
     },
     "execution_count": 49,
     "metadata": {},
     "output_type": "execute_result"
    }
   ],
   "source": [
    "print(['mu_drift', 'boundary', 'beta', 'tau', 'sigma', 'eta']),\n",
    "model7_param_samples_mem_rt_cpp.mean(axis=0)"
   ]
  },
  {
   "cell_type": "code",
   "execution_count": 50,
   "id": "f3de340f-708b-4470-9efe-d94857a07a5f",
   "metadata": {},
   "outputs": [
    {
     "name": "stdout",
     "output_type": "stream",
     "text": [
      "['mu_drift', 'boundary', 'beta', 'tau', 'sigma', 'eta']\n"
     ]
    },
    {
     "data": {
      "text/plain": [
       "array([ 0.1834504 ,  1.985086  ,  0.5142209 ,  0.7368251 ,  0.17267735,\n",
       "       -0.0430799 ], dtype=float32)"
      ]
     },
     "execution_count": 50,
     "metadata": {},
     "output_type": "execute_result"
    }
   ],
   "source": [
    "print(['mu_drift', 'boundary', 'beta', 'tau', 'sigma', 'eta']),\n",
    "model7_param_samples_perc_rt_cpp.mean(axis=0)"
   ]
  },
  {
   "cell_type": "code",
   "execution_count": 52,
   "id": "867c8f73-88ad-48b6-94c6-03307a1fde45",
   "metadata": {},
   "outputs": [],
   "source": [
    "ratio_perc = (model7_param_samples_perc_rt_cpp[:,4]**2*model7_param_samples_perc_rt_cpp[:,5]**2)/(model7_param_samples_perc_rt_cpp[:,4]**2*model7_param_samples_perc_rt_cpp[:, 5]**2 + model7_param_samples_perc_rt_cpp[:, 3]**2)\n",
    "ratio_mem = (model7_param_samples_mem_rt_cpp[:,4]**2*model7_param_samples_mem_rt_cpp[:,5]**2)/(model7_param_samples_mem_rt_cpp[:,4]**2*model7_param_samples_mem_rt_cpp[:, 5]**2 + model7_param_samples_mem_rt_cpp[:, 3]**2)"
   ]
  },
  {
   "cell_type": "code",
   "execution_count": 57,
   "id": "56692a2f-f7c4-4e87-b6a1-2940855b7b80",
   "metadata": {},
   "outputs": [
    {
     "data": {
      "text/plain": [
       "(0.00027934316, 0.0014823121)"
      ]
     },
     "execution_count": 57,
     "metadata": {},
     "output_type": "execute_result"
    }
   ],
   "source": [
    "ratio_perc.std(), ratio_mem.std()"
   ]
  },
  {
   "cell_type": "code",
   "execution_count": 37,
   "id": "25aa43c0-0333-46b7-80f2-1470f3c5c4c1",
   "metadata": {},
   "outputs": [],
   "source": [
    "model7_x_predict_mem = batch_simulator(model7_param_samples_mem_rt_cpp, 2000).astype(np.float32)\n",
    "model7_x_predict_perc = batch_simulator(model7_param_samples_perc_rt_cpp, 2000).astype(np.float32)"
   ]
  },
  {
   "cell_type": "markdown",
   "id": "e58d6722-300a-4580-a8b4-7f89cc570d2f",
   "metadata": {},
   "source": [
    "### Model 8"
   ]
  },
  {
   "cell_type": "code",
   "execution_count": 38,
   "id": "fa5d5f70-fdac-4139-96f7-a13b2210c0ab",
   "metadata": {},
   "outputs": [
    {
     "name": "stdout",
     "output_type": "stream",
     "text": [
      "Networks loaded from ../../checkpoint/CPP_single_trial_sigma_gamma_eta_wider_fixed_bias/ckpt-500\n"
     ]
    }
   ],
   "source": [
    "def prior(batch_size):\n",
    "    \"\"\"\n",
    "    Samples from the prior 'batch_size' times.\n",
    "    ----------\n",
    "\n",
    "    Arguments:\n",
    "    batch_size : int -- the number of samples to draw from the prior\n",
    "    ----------\n",
    "\n",
    "    Output:\n",
    "    theta : np.ndarray of shape (batch_size, theta_dim) -- the samples batch of parameters\n",
    "    \"\"\"\n",
    "\n",
    "    # Prior ranges for the simulator\n",
    "    # mu_drift ~ U(-3.0, 3.0)\n",
    "    # boundary ~ U(0.5, 4.0)\n",
    "    # tau ~ U(0.1, 1.0)\n",
    "    # sigma ~ ~ U(.5, 4) # is 1/lambda\n",
    "    # gamma ~ U(0.3, 4)\n",
    "    # Eta ~ U(0.0, 1.0)\n",
    "    n_parameters = 6\n",
    "    p_samples = np.random.uniform(low=(0.0,  0.2, 0.1, 0.0, -3, 0.0),\n",
    "                                  high=(3.0, 2.0, 1.0, 2.0, 3,  2.0), size=(batch_size, n_parameters))\n",
    "    return p_samples.astype(np.float32)\n",
    "\n",
    "@njit\n",
    "def diffusion_trial(mu_drift, boundary, tau, sigma, gamma, eta, dc=1.0, dt=.005):\n",
    "    \"\"\"Simulates a trial from the diffusion model.\"\"\"\n",
    "\n",
    "    n_steps = 0.\n",
    "    evidence = boundary * 0.5\n",
    "    \n",
    "    # trial-to-trial drift rate variability\n",
    "    drift_trial = mu_drift + eta * np.random.normal()\n",
    "    \n",
    "    # Simulate a single DM path\n",
    "    while (evidence > 0 and evidence < boundary):\n",
    "\n",
    "        # DDM equation\n",
    "        evidence += drift_trial*dt + np.sqrt(dt) * dc * np.random.normal()\n",
    "\n",
    "        # Increment step\n",
    "        n_steps += 1.0\n",
    "\n",
    "    rt = n_steps * dt\n",
    "\n",
    "    \n",
    "    # CPP slope\n",
    "    cpp = np.random.normal(gamma*drift_trial, sigma)\n",
    "\n",
    "    \n",
    "    if evidence >= boundary:\n",
    "        choicert =  tau + rt\n",
    "        \n",
    "    else:\n",
    "        choicert = -tau - rt\n",
    "    return choicert, cpp\n",
    "\n",
    "@njit\n",
    "def diffusion_condition(params, n_trials):\n",
    "    \"\"\"Simulates a diffusion process over an entire condition.\"\"\"\n",
    "\n",
    "    mu_drift, boundary, tau, sigma, gamma, eta = params\n",
    "    choicert = np.empty(n_trials)\n",
    "    z = np.empty(n_trials)\n",
    "    for i in range(n_trials):\n",
    "        choicert[i], z[i] = diffusion_trial(mu_drift, boundary, tau, sigma, gamma, eta)\n",
    "    return choicert, z\n",
    "\n",
    "def batch_simulator(prior_samples, n_obs):\n",
    "    \"\"\"\n",
    "    Simulate multiple diffusion_model_datasets.\n",
    "    \"\"\"\n",
    "\n",
    "    n_sim = prior_samples.shape[0]\n",
    "    sim_choicert = np.empty((n_sim, n_obs), dtype=np.float32)\n",
    "    sim_z = np.empty((n_sim, n_obs), dtype=np.float32)\n",
    "\n",
    "    # Simulate diffusion data\n",
    "    for i in range(n_sim):\n",
    "        sim_choicert[i], sim_z[i] = diffusion_condition(prior_samples[i], n_obs)\n",
    "\n",
    "    # For some reason BayesFlow wants there to be at least two data dimensions\n",
    "    sim_data = np.stack([sim_choicert, sim_z], axis=-1)\n",
    "    return sim_data\n",
    "\n",
    "# Connect the networks through a SingleModelAmortizer instance.\n",
    "summary_net = InvariantNetwork()\n",
    "inference_net = InvertibleNetwork({'n_params': 6})\n",
    "amortizer = SingleModelAmortizer(inference_net, summary_net)\n",
    "\n",
    "# Connect the prior and simulator through a GenerativeModel class which will take care of forward inference.\n",
    "generative_model = GenerativeModel(prior, batch_simulator)\n",
    "\n",
    "trainer = ParameterEstimationTrainer(\n",
    "    network=amortizer,\n",
    "    generative_model=generative_model,\n",
    "    checkpoint_path=\"../../checkpoint/CPP_single_trial_sigma_gamma_eta_wider_fixed_bias\"\n",
    ")"
   ]
  },
  {
   "cell_type": "code",
   "execution_count": 39,
   "id": "c5739e0d-aa5a-4da1-a9a2-f9a9f99d83ed",
   "metadata": {},
   "outputs": [],
   "source": [
    "# Validate (quick and dirty) by a specific real data\n",
    "n_param_sets = 1000\n",
    "n_samples = 1000\n",
    "\n",
    "model8_param_samples_mem_rt_cpp = amortizer.sample(data_mem_rt_cpp.reshape(1,data_mem_rt_cpp.shape[0],2), n_samples=n_samples)\n",
    "model8_param_samples_perc_rt_cpp = amortizer.sample(data_perc_rt_cpp.reshape(1,data_perc_rt_cpp.shape[0],2), n_samples=n_samples)"
   ]
  },
  {
   "cell_type": "code",
   "execution_count": 40,
   "id": "a96011af-2dcb-4688-ac85-c57c11dd8c2c",
   "metadata": {},
   "outputs": [
    {
     "name": "stdout",
     "output_type": "stream",
     "text": [
      "['mu_drift', 'boundary', 'tau', 'sigma', 'gamma', 'eta']\n"
     ]
    },
    {
     "data": {
      "text/plain": [
       "array([ 0.7131381 ,  2.0264142 ,  0.7301895 ,  0.06729566,  0.01220892,\n",
       "       -0.02120082], dtype=float32)"
      ]
     },
     "execution_count": 40,
     "metadata": {},
     "output_type": "execute_result"
    }
   ],
   "source": [
    "print(['mu_drift', 'boundary', 'tau', 'sigma', 'gamma', 'eta']),\n",
    "model8_param_samples_perc_rt_cpp.mean(axis=0)"
   ]
  },
  {
   "cell_type": "code",
   "execution_count": 41,
   "id": "a858d9cf-cc9b-439e-be71-0a1976d40c76",
   "metadata": {},
   "outputs": [
    {
     "name": "stdout",
     "output_type": "stream",
     "text": [
      "['mu_drift', 'boundary', 'tau', 'sigma', 'gamma', 'eta']\n"
     ]
    },
    {
     "data": {
      "text/plain": [
       "array([ 0.98719674,  1.6942669 ,  0.4497564 ,  0.08510511, -0.01165222,\n",
       "        0.94248897], dtype=float32)"
      ]
     },
     "execution_count": 41,
     "metadata": {},
     "output_type": "execute_result"
    }
   ],
   "source": [
    "print(['mu_drift', 'boundary', 'tau', 'sigma', 'gamma', 'eta']),\n",
    "model8_param_samples_mem_rt_cpp.mean(axis=0)"
   ]
  },
  {
   "cell_type": "code",
   "execution_count": 42,
   "id": "16dfd1b3-d78e-48b9-ae3c-da8abcedc106",
   "metadata": {},
   "outputs": [],
   "source": [
    "model8_x_predict_mem = batch_simulator(model8_param_samples_mem_rt_cpp, 2000).astype(np.float32)\n",
    "model8_x_predict_perc = batch_simulator(model8_param_samples_perc_rt_cpp, 2000).astype(np.float32)"
   ]
  },
  {
   "cell_type": "code",
   "execution_count": 43,
   "id": "17773b9c-2674-4a07-b1ed-46922d2b9838",
   "metadata": {},
   "outputs": [
    {
     "data": {
      "image/png": "[encoded data removed]",
      "text/plain": [
       "<Figure size 1080x360 with 4 Axes>"
      ]
     },
     "metadata": {
      "needs_background": "light"
     },
     "output_type": "display_data"
    }
   ],
   "source": [
    "fig, axes = plt.subplots(2, 2, figsize=(15,5), tight_layout=True)\n",
    "\n",
    "sns.kdeplot(1000*np.abs(model7_x_predict_perc[:,:,0]).flatten(), ax = axes[0,0], linewidth = 3, color='#1f77b4')\n",
    "sns.kdeplot(1000*np.abs(model8_x_predict_perc[:,:,0]).flatten(), ax = axes[0,0], linewidth = 3, color='#2ca02c')\n",
    "axes[0,0].hist(1000*np.abs(data_perc_rt_cpp[:,0]), density=True, bins = 20, color='#ff7f0e', alpha=0.8)\n",
    "axes[0,0].legend(['Model 7','Model 8','Observed perc RT'], fontsize=14)\n",
    "axes[0,0].set_xlabel('Time (msec)', fontsize=14)\n",
    "axes[0,0].set_ylabel('Density', fontsize=14)\n",
    "axes[0,0].set_xlim([0,5000])\n",
    "\n",
    "sns.kdeplot(model7_x_predict_perc[:,:,1].flatten(), ax = axes[0,1], linewidth = 3, color='#1f77b4')\n",
    "sns.kdeplot(model8_x_predict_perc[:,:,1].flatten(), ax = axes[0,1], linewidth = 3, color='#2ca02c')\n",
    "axes[0,1].hist(data_perc_rt_cpp[:,1], density=True, bins = 20, color='#ff7f0e', alpha=0.8)\n",
    "axes[0,1].legend(['Model 7','Model 8','Observed perc CPP'], fontsize=14)\n",
    "axes[0,1].set_xlabel('Slope', fontsize=14)\n",
    "axes[0,1].set_ylabel('Density', fontsize=14)\n",
    "axes[0,1].set_xlim([-1,1])\n",
    "\n",
    "sns.kdeplot(1000*np.abs(model7_x_predict_mem[:,:,0]).flatten(), ax = axes[1,0], linewidth = 2, color='#1f77b4')\n",
    "sns.kdeplot(1000*np.abs(model8_x_predict_mem[:,:,0]).flatten(), ax = axes[1,0], linewidth = 2, color='#2ca02c')\n",
    "axes[1,0].hist(1000*np.abs(data_mem_rt_cpp[:,0]), density=True, bins = 20, color='#ff7f0e', alpha=0.8)\n",
    "axes[1,0].legend(['Model 7','Model 8','Observed mem RT'], fontsize=14)\n",
    "axes[1,0].set_xlabel('Time (msec)', fontsize=14)\n",
    "axes[1,0].set_ylabel('Density', fontsize=14)\n",
    "axes[1,0].set_xlim([0,4000])\n",
    "\n",
    "sns.kdeplot(model7_x_predict_mem[:,:,1].flatten(), ax = axes[1,1], linewidth = 3, color='#1f77b4')\n",
    "sns.kdeplot(model8_x_predict_mem[:,:,1].flatten(), ax = axes[1,1], linewidth = 3, color='#2ca02c')\n",
    "axes[1,1].hist(data_mem_rt_cpp[:,1], density=True, bins = 20, color='#ff7f0e', alpha=0.8)\n",
    "axes[1,1].legend(['Model 7','Model 8','Observed mem CPP'], fontsize=14)\n",
    "axes[1,1].set_xlabel('Slope', fontsize=14)\n",
    "axes[1,1].set_ylabel('Density', fontsize=14)\n",
    "axes[1,1].set_xlim([-1,1])\n",
    "\n",
    "plt.savefig('Figures/CPP_data_'+parts+'.png')"
   ]
  },
  {
   "cell_type": "code",
   "execution_count": null,
   "id": "0d65b81a-8c4a-4e32-b01d-86cb7e81f4a1",
   "metadata": {},
   "outputs": [],
   "source": []
  },
  {
   "cell_type": "code",
   "execution_count": null,
   "id": "c1bf5507-b92f-48c1-9b9d-c8617f66472e",
   "metadata": {},
   "outputs": [],
   "source": []
  }
 ],
 "metadata": {
  "kernelspec": {
   "display_name": "Python 3",
   "language": "python",
   "name": "python3"
  },
  "language_info": {
   "codemirror_mode": {
    "name": "ipython",
    "version": 3
   },
   "file_extension": ".py",
   "mimetype": "text/x-python",
   "name": "python",
   "nbconvert_exporter": "python",
   "pygments_lexer": "ipython3",
   "version": "3.7.10"
  }
 },
 "nbformat": 4,
 "nbformat_minor": 5
}
