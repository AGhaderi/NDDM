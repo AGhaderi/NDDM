{
 "cells": [
  {
   "cell_type": "code",
   "execution_count": 1,
   "id": "6fb77f00-e4af-4ae7-bafa-06d7d720e9e3",
   "metadata": {},
   "outputs": [],
   "source": [
    "import os\n",
    "import numpy as np\n",
    "import pandas as pd\n",
    "from scipy import stats\n",
    "from time import time\n",
    "import matplotlib.pyplot as plt\n",
    "from scipy import stats\n",
    "from numba import njit\n",
    "import tensorflow as tf\n",
    "\n",
    "import sys\n",
    "sys.path.append('../../../')\n",
    "from bayesflow.networks import InvertibleNetwork, InvariantNetwork\n",
    "from bayesflow.amortizers import SingleModelAmortizer\n",
    "from bayesflow.trainers import ParameterEstimationTrainer\n",
    "from bayesflow.diagnostics import *\n",
    "from bayesflow.models import GenerativeModel\n",
    "import scipy.io as sio"
   ]
  },
  {
   "cell_type": "code",
   "execution_count": 2,
   "id": "e95ad5c1-0aa7-4798-91dd-b147f243e1de",
   "metadata": {},
   "outputs": [
    {
     "name": "stdout",
     "output_type": "stream",
     "text": [
      "Networks loaded from ../../checkpoint/CPP_single_trial_sigma_gamma_eta_wider_fixed_bias/ckpt-500\n"
     ]
    }
   ],
   "source": [
    "def prior(batch_size):\n",
    "    \"\"\"\n",
    "    Samples from the prior 'batch_size' times.\n",
    "    ----------\n",
    "\n",
    "    Arguments:\n",
    "    batch_size : int -- the number of samples to draw from the prior\n",
    "    ----------\n",
    "\n",
    "    Output:\n",
    "    theta : np.ndarray of shape (batch_size, theta_dim) -- the samples batch of parameters\n",
    "    \"\"\"\n",
    "\n",
    "    # Prior ranges for the simulator\n",
    "    # mu_drift ~ U(-3.0, 3.0)\n",
    "    # boundary ~ U(0.5, 4.0)\n",
    "    # tau ~ U(0.1, 1.0)\n",
    "    # sigma ~ ~ U(.5, 4) # is 1/lambda\n",
    "    # gamma ~ U(0.3, 4)\n",
    "    # Eta ~ U(0.0, 1.0)\n",
    "    n_parameters = 6\n",
    "    p_samples = np.random.uniform(low=(0.0,  0.2, 0.1, 0.0, -3, 0.0),\n",
    "                                  high=(3.0, 2.0, 1.0, 2.0, 3,  2.0), size=(batch_size, n_parameters))\n",
    "    return p_samples.astype(np.float32)\n",
    "\n",
    "@njit\n",
    "def diffusion_trial(mu_drift, boundary, tau, sigma, gamma, eta, dc=1.0, dt=.005):\n",
    "    \"\"\"Simulates a trial from the diffusion model.\"\"\"\n",
    "\n",
    "    n_steps = 0.\n",
    "    evidence = boundary * 0.5\n",
    "    \n",
    "    # trial-to-trial drift rate variability\n",
    "    drift_trial = mu_drift + eta * np.random.normal()\n",
    "    \n",
    "    # Simulate a single DM path\n",
    "    while (evidence > 0 and evidence < boundary):\n",
    "\n",
    "        # DDM equation\n",
    "        evidence += drift_trial*dt + np.sqrt(dt) * dc * np.random.normal()\n",
    "\n",
    "        # Increment step\n",
    "        n_steps += 1.0\n",
    "\n",
    "    rt = n_steps * dt\n",
    "\n",
    "    \n",
    "    # CPP slope\n",
    "    cpp = np.random.normal(gamma*drift_trial, sigma)\n",
    "\n",
    "    \n",
    "    if evidence >= boundary:\n",
    "        choicert =  tau + rt\n",
    "        \n",
    "    else:\n",
    "        choicert = -tau - rt\n",
    "    return choicert, cpp\n",
    "\n",
    "@njit\n",
    "def diffusion_condition(params, n_trials):\n",
    "    \"\"\"Simulates a diffusion process over an entire condition.\"\"\"\n",
    "\n",
    "    mu_drift, boundary, tau, sigma, gamma, eta = params\n",
    "    choicert = np.empty(n_trials)\n",
    "    z = np.empty(n_trials)\n",
    "    for i in range(n_trials):\n",
    "        choicert[i], z[i] = diffusion_trial(mu_drift, boundary, tau, sigma, gamma, eta)\n",
    "    return choicert, z\n",
    "\n",
    "def batch_simulator(prior_samples, n_obs):\n",
    "    \"\"\"\n",
    "    Simulate multiple diffusion_model_datasets.\n",
    "    \"\"\"\n",
    "\n",
    "    n_sim = prior_samples.shape[0]\n",
    "    sim_choicert = np.empty((n_sim, n_obs), dtype=np.float32)\n",
    "    sim_z = np.empty((n_sim, n_obs), dtype=np.float32)\n",
    "\n",
    "    # Simulate diffusion data\n",
    "    for i in range(n_sim):\n",
    "        sim_choicert[i], sim_z[i] = diffusion_condition(prior_samples[i], n_obs)\n",
    "\n",
    "    # For some reason BayesFlow wants there to be at least two data dimensions\n",
    "    sim_data = np.stack([sim_choicert, sim_z], axis=-1)\n",
    "    return sim_data\n",
    "\n",
    "# Connect the networks through a SingleModelAmortizer instance.\n",
    "summary_net = InvariantNetwork()\n",
    "inference_net = InvertibleNetwork({'n_params': 6})\n",
    "amortizer = SingleModelAmortizer(inference_net, summary_net)\n",
    "\n",
    "# Connect the prior and simulator through a GenerativeModel class which will take care of forward inference.\n",
    "generative_model = GenerativeModel(prior, batch_simulator)\n",
    "\n",
    "trainer = ParameterEstimationTrainer(\n",
    "    network=amortizer,\n",
    "    generative_model=generative_model,\n",
    "    checkpoint_path=\"../../checkpoint/CPP_single_trial_sigma_gamma_eta_wider_fixed_bias\"\n",
    ")"
   ]
  },
  {
   "cell_type": "code",
   "execution_count": 3,
   "id": "87db8bbf-bf55-4555-aaae-38d11946b7a4",
   "metadata": {},
   "outputs": [],
   "source": [
    "parts = ['ACC013', 'ACC014', 'ACC016', 'ACC017', 'ACC018', 'ACC019', 'ACC020', 'ACC021', 'ACC022',\n",
    "         'ACC023', 'ACC024', 'ACC025', 'ACC026', 'ACC027', 'ACC028', 'ACC029', 'ACC030', 'ACC031',\n",
    "         'ACC032', 'ACC033', 'ACC034', 'ACC035', 'ACC036']\n",
    "\n",
    "param_samples_all_perc_rt_cpp = np.zeros([23, 1000, 6])\n",
    "param_samples_all_mem_rt_cpp = np.zeros([23, 1000, 6])\n",
    "\n",
    "for i in range(23):\n",
    "    data_slope = sio.loadmat('Data/'+parts[i]+'/CPPslopes2.mat')\n",
    "    data_beh = sio.loadmat('Data/'+parts[i]+'/'+parts[i]+'forDMA.mat')\n",
    "    \n",
    "    # Response time and CPP\n",
    "    response_time = (2*data_beh['datOut'][:,1]-1)*(data_beh['datOut'][:,2])\n",
    "    CPP = data_slope['trialSlopes'][:,0]\n",
    "\n",
    "    # Memroy and Perceptual indecies \n",
    "    perc = data_beh['datOut'][:,0]==1\n",
    "    mem = data_beh['datOut'][:,0]==2\n",
    "\n",
    "    data_perc_rt_cpp = np.array([response_time[perc], CPP[perc]]).T\n",
    "    data_mem_rt_cpp = np.array([response_time[mem], CPP[mem]]).T\n",
    "    \n",
    "    # Validate (quick and dirty) by a specific real data\n",
    "    n_samples = 1000\n",
    "    param_samples_perc_rt_cpp = amortizer.sample(data_perc_rt_cpp.reshape(1,data_perc_rt_cpp.shape[0],2), n_samples=n_samples)\n",
    "    param_samples_mem_rt_cpp = amortizer.sample(data_mem_rt_cpp.reshape(1,data_mem_rt_cpp.shape[0],2), n_samples=n_samples)\n",
    " \n",
    "    #All of estimated parameters\n",
    "    param_samples_all_perc_rt_cpp[i] = param_samples_perc_rt_cpp\n",
    "    param_samples_all_mem_rt_cpp[i] = param_samples_mem_rt_cpp"
   ]
  },
  {
   "cell_type": "code",
   "execution_count": 4,
   "id": "cd2b04a6-b10f-49cc-b420-8ae08fbba4e5",
   "metadata": {},
   "outputs": [],
   "source": [
    "# propotion and Bayes factor of gammal parameter"
   ]
  },
  {
   "cell_type": "code",
   "execution_count": 5,
   "id": "7cf30823-794d-4209-92b8-e949df4c85af",
   "metadata": {},
   "outputs": [],
   "source": [
    "propotion_perc = np.zeros(23)\n",
    "propotion_mem = np.zeros(23)\n",
    "\n",
    "for p in range(23):\n",
    "    positive_perc = np.sum(param_samples_all_perc_rt_cpp[p,:,4]>0)\n",
    "    positive_mem = np.sum(param_samples_all_mem_rt_cpp[p,:,4]>0)\n",
    "    \n",
    "    propotion_perc[p] = positive_perc/len(param_samples_all_perc_rt_cpp[p,:,4])\n",
    "    propotion_mem[p] = positive_mem/len(param_samples_all_mem_rt_cpp[p,:,4])"
   ]
  },
  {
   "cell_type": "code",
   "execution_count": 6,
   "id": "da17213d-2c30-4715-9e7a-e0358e8dbb56",
   "metadata": {},
   "outputs": [
    {
     "data": {
      "text/plain": [
       "array([0.726, 0.967, 0.351, 0.443, 0.222, 0.406, 0.195, 0.983, 0.99 ,\n",
       "       0.994, 0.631, 0.362, 0.935, 0.77 , 0.756, 0.751, 0.966, 1.   ,\n",
       "       0.96 , 0.583, 0.824, 0.565, 0.983])"
      ]
     },
     "execution_count": 6,
     "metadata": {},
     "output_type": "execute_result"
    }
   ],
   "source": [
    "propotion_perc"
   ]
  },
  {
   "cell_type": "code",
   "execution_count": 7,
   "id": "18740ff1-3209-42f4-8055-1b2ebe9f1da1",
   "metadata": {},
   "outputs": [
    {
     "data": {
      "text/plain": [
       "array([0.828, 0.91 , 0.522, 0.394, 0.079, 0.939, 0.609, 1.   , 1.   ,\n",
       "       0.808, 0.324, 0.853, 0.456, 0.501, 0.569, 0.751, 0.598, 0.528,\n",
       "       0.876, 0.207, 0.651, 0.622, 0.895])"
      ]
     },
     "execution_count": 7,
     "metadata": {},
     "output_type": "execute_result"
    }
   ],
   "source": [
    "propotion_mem"
   ]
  },
  {
   "cell_type": "code",
   "execution_count": 8,
   "id": "1b7b3548-142a-4723-836c-a197912b95a7",
   "metadata": {},
   "outputs": [],
   "source": [
    "# mu_drift, boundary, tau, sigma, gamma, eta"
   ]
  },
  {
   "cell_type": "code",
   "execution_count": 9,
   "id": "594a4318-32c0-4993-8181-721f35051c19",
   "metadata": {},
   "outputs": [
    {
     "data": {
      "text/plain": [
       "(23, 1000, 6)"
      ]
     },
     "execution_count": 9,
     "metadata": {},
     "output_type": "execute_result"
    }
   ],
   "source": [
    "param_samples_all_perc_rt_cpp.shape"
   ]
  },
  {
   "cell_type": "code",
   "execution_count": 10,
   "id": "12c95151-7a4a-4ac6-b98e-ff3a33d538d2",
   "metadata": {},
   "outputs": [],
   "source": [
    "# the amount of variance in single-trial EEG related to cognition\n",
    "ratio_perc = np.zeros([23, 1000])\n",
    "ratio_mem = np.zeros([23, 1000])\n",
    "for p in range(23):\n",
    "    ratio_perc[p] = (param_samples_all_perc_rt_cpp[p,:,4]**2*param_samples_all_perc_rt_cpp[p,:,5]**2)/(param_samples_all_perc_rt_cpp[p,:,4]**2*param_samples_all_perc_rt_cpp[p,:, 5]**2 + param_samples_all_perc_rt_cpp[p,:, 3]**2)\n",
    "    ratio_mem[p] = (param_samples_all_mem_rt_cpp[p,:,4]**2*param_samples_all_mem_rt_cpp[p,:,5]**2)/(param_samples_all_mem_rt_cpp[p,:,4]**2*param_samples_all_mem_rt_cpp[p,:, 5]**2 + param_samples_all_mem_rt_cpp[p,:, 3]**2)"
   ]
  },
  {
   "cell_type": "code",
   "execution_count": 16,
   "id": "9f099b38-1b4a-4254-992d-cdaa98072379",
   "metadata": {},
   "outputs": [
    {
     "data": {
      "text/plain": [
       "(0.05905518090623353, 0.11498249368636422)"
      ]
     },
     "execution_count": 16,
     "metadata": {},
     "output_type": "execute_result"
    }
   ],
   "source": [
    "ratio_perc.mean(), ratio_perc.std()"
   ]
  },
  {
   "cell_type": "code",
   "execution_count": 12,
   "id": "b61e9da9-b8c5-4202-9a1b-a1d3ec373800",
   "metadata": {},
   "outputs": [
    {
     "data": {
      "text/plain": [
       "(0.06676648148034477, 0.11745786064523558)"
      ]
     },
     "execution_count": 12,
     "metadata": {},
     "output_type": "execute_result"
    }
   ],
   "source": [
    "ratio_mem.mean(), ratio_mem.std()"
   ]
  },
  {
   "cell_type": "code",
   "execution_count": 42,
   "id": "3a2abce1-7e53-4b21-a85d-325267274ff6",
   "metadata": {},
   "outputs": [
    {
     "data": {
      "text/plain": [
       "(0.007783679769924124, 0.029444944154326372)"
      ]
     },
     "execution_count": 42,
     "metadata": {},
     "output_type": "execute_result"
    }
   ],
   "source": [
    "ratio_perc.mean(axis=1)[11], ratio_perc.std(axis=1)[11]"
   ]
  },
  {
   "cell_type": "code",
   "execution_count": 43,
   "id": "85910b3d-8837-4f2a-984b-d1fd01a77e2b",
   "metadata": {},
   "outputs": [
    {
     "data": {
      "text/plain": [
       "(0.03125013247964206, 0.05909255751891894)"
      ]
     },
     "execution_count": 43,
     "metadata": {},
     "output_type": "execute_result"
    }
   ],
   "source": [
    "ratio_mem.mean(axis=1)[11], ratio_mem.std(axis=1)[11]"
   ]
  },
  {
   "cell_type": "code",
   "execution_count": 67,
   "id": "c3e0e3ba-7ed2-4a30-9f68-42238cc6bd8e",
   "metadata": {},
   "outputs": [],
   "source": [
    " "
   ]
  },
  {
   "cell_type": "code",
   "execution_count": 19,
   "id": "25fa2d65-9719-4fcf-94c3-f38665650f89",
   "metadata": {},
   "outputs": [],
   "source": [
    " "
   ]
  },
  {
   "cell_type": "code",
   "execution_count": 46,
   "id": "6750a601-78d1-4251-9d76-21a61e0be477",
   "metadata": {},
   "outputs": [
    {
     "data": {
      "text/plain": [
       "Ttest_1sampResult(statistic=2.3653223965381835, pvalue=0.027248645905090386)"
      ]
     },
     "execution_count": 46,
     "metadata": {},
     "output_type": "execute_result"
    }
   ],
   "source": [
    " "
   ]
  },
  {
   "cell_type": "code",
   "execution_count": 4,
   "id": "6d96d04e-3e3e-4fbd-a913-e80164d3d6e4",
   "metadata": {},
   "outputs": [],
   "source": [
    "### parameter values"
   ]
  },
  {
   "cell_type": "code",
   "execution_count": 55,
   "id": "93a0918f-4ea8-48c0-97da-5a19ca651e96",
   "metadata": {},
   "outputs": [
    {
     "data": {
      "text/plain": [
       "array([ 0.57430692,  2.09154389,  0.55468466,  0.11989154, -0.01785826,\n",
       "        0.02584463])"
      ]
     },
     "execution_count": 55,
     "metadata": {},
     "output_type": "execute_result"
    }
   ],
   "source": [
    "param_samples_all_perc_rt_cpp.mean(axis=1)[11]"
   ]
  },
  {
   "cell_type": "code",
   "execution_count": 56,
   "id": "ebd3f4db-5ad9-45b1-b92c-6c9da864a873",
   "metadata": {},
   "outputs": [
    {
     "data": {
      "text/plain": [
       "array([0.07748587, 0.04652273, 0.02548507, 0.04195577, 0.05173662,\n",
       "       0.17161053])"
      ]
     },
     "execution_count": 56,
     "metadata": {},
     "output_type": "execute_result"
    }
   ],
   "source": [
    "param_samples_all_perc_rt_cpp.std(axis=1)[11]"
   ]
  },
  {
   "cell_type": "code",
   "execution_count": 57,
   "id": "6d48e1bb-0868-49af-857d-f686e8967a06",
   "metadata": {},
   "outputs": [
    {
     "data": {
      "text/plain": [
       "array([1.08174468, 1.70886223, 0.29223546, 0.09584838, 0.02413893,\n",
       "       0.4476386 ])"
      ]
     },
     "execution_count": 57,
     "metadata": {},
     "output_type": "execute_result"
    }
   ],
   "source": [
    "param_samples_all_mem_rt_cpp.mean(axis=1)[11]"
   ]
  },
  {
   "cell_type": "code",
   "execution_count": 58,
   "id": "0ae408b8-cf38-4a23-9bb9-a1ee23923c2e",
   "metadata": {},
   "outputs": [
    {
     "data": {
      "text/plain": [
       "array([0.13396493, 0.08916801, 0.01511569, 0.02507671, 0.02415184,\n",
       "       0.28706504])"
      ]
     },
     "execution_count": 58,
     "metadata": {},
     "output_type": "execute_result"
    }
   ],
   "source": [
    "param_samples_all_mem_rt_cpp.std(axis=1)[11]"
   ]
  },
  {
   "cell_type": "code",
   "execution_count": 22,
   "id": "31cdccbe-1bfd-4655-a21f-bdd8e252c270",
   "metadata": {},
   "outputs": [
    {
     "name": "stderr",
     "output_type": "stream",
     "text": [
      "/home/a.ghaderi/.conda/envs/envjm/lib/python3.7/site-packages/seaborn/distributions.py:2619: FutureWarning: `distplot` is a deprecated function and will be removed in a future version. Please adapt your code to use either `displot` (a figure-level function with similar flexibility) or `histplot` (an axes-level function for histograms).\n",
      "  warnings.warn(msg, FutureWarning)\n",
      "/home/a.ghaderi/.conda/envs/envjm/lib/python3.7/site-packages/seaborn/distributions.py:2619: FutureWarning: `distplot` is a deprecated function and will be removed in a future version. Please adapt your code to use either `displot` (a figure-level function with similar flexibility) or `histplot` (an axes-level function for histograms).\n",
      "  warnings.warn(msg, FutureWarning)\n"
     ]
    },
    {
     "data": {
      "text/plain": [
       "Text(0.5, 1.0, 'Gamma for memory')"
      ]
     },
     "execution_count": 22,
     "metadata": {},
     "output_type": "execute_result"
    },
    {
     "data": {
      "image/png": "[encoded data removed]",
      "text/plain": [
       "<Figure size 1080x288 with 2 Axes>"
      ]
     },
     "metadata": {
      "needs_background": "light"
     },
     "output_type": "display_data"
    }
   ],
   "source": [
    "fig, axes = plt.subplots(1,2, figsize=(15,4), tight_layout=True)\n",
    "sns.distplot(param_samples_all_perc_rt_cpp[2,:,4], ax=axes[0], bins=50)\n",
    "axes[0].set_title(\"Gamma for perceptual\")\n",
    "sns.distplot(param_samples_all_mem_rt_cpp[2,:,4], ax=axes[1], bins=50)\n",
    "axes[1].set_title(\"Gamma for memory\")"
   ]
  },
  {
   "cell_type": "code",
   "execution_count": null,
   "id": "0d65b81a-8c4a-4e32-b01d-86cb7e81f4a1",
   "metadata": {},
   "outputs": [],
   "source": []
  },
  {
   "cell_type": "code",
   "execution_count": null,
   "id": "c1bf5507-b92f-48c1-9b9d-c8617f66472e",
   "metadata": {},
   "outputs": [],
   "source": []
  },
  {
   "cell_type": "code",
   "execution_count": null,
   "id": "8671e969-669a-4425-90b9-d1b1247e13a6",
   "metadata": {},
   "outputs": [],
   "source": []
  }
 ],
 "metadata": {
  "kernelspec": {
   "display_name": "Python 3",
   "language": "python",
   "name": "python3"
  },
  "language_info": {
   "codemirror_mode": {
    "name": "ipython",
    "version": 3
   },
   "file_extension": ".py",
   "mimetype": "text/x-python",
   "name": "python",
   "nbconvert_exporter": "python",
   "pygments_lexer": "ipython3",
   "version": "3.7.10"
  }
 },
 "nbformat": 4,
 "nbformat_minor": 5
}
