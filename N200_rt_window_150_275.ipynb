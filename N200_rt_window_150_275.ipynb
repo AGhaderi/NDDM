{
 "cells": [
  {
   "cell_type": "code",
   "execution_count": 1,
   "id": "6fb77f00-e4af-4ae7-bafa-06d7d720e9e3",
   "metadata": {},
   "outputs": [],
   "source": [
    "import os\n",
    "import numpy as np\n",
    "import pandas as pd\n",
    "from scipy import stats\n",
    "from time import time\n",
    "import matplotlib.pyplot as plt\n",
    "\n",
    "from numba import njit\n",
    "import tensorflow as tf\n",
    "\n",
    "import sys\n",
    "sys.path.append('../../')\n",
    "from bayesflow.networks import InvertibleNetwork, InvariantNetwork\n",
    "from bayesflow.amortizers import SingleModelAmortizer\n",
    "from bayesflow.trainers import ParameterEstimationTrainer\n",
    "from bayesflow.diagnostics import *\n",
    "from bayesflow.models import GenerativeModel"
   ]
  },
  {
   "cell_type": "code",
   "execution_count": 48,
   "id": "e95ad5c1-0aa7-4798-91dd-b147f243e1de",
   "metadata": {},
   "outputs": [
    {
     "name": "stdout",
     "output_type": "stream",
     "text": [
      "Networks loaded from ../checkpoint/N200_single_trial/ckpt-1000\n"
     ]
    }
   ],
   "source": [
    "def prior(batch_size):\n",
    "    \"\"\"\n",
    "    Samples from the prior 'batch_size' times.\n",
    "    ----------\n",
    "\n",
    "    Arguments:\n",
    "    batch_size : int -- the number of samples to draw from the prior\n",
    "    ----------\n",
    "\n",
    "    Output:\n",
    "    theta : np.ndarray of shape (batch_size, theta_dim) -- the samples batch of parameters\n",
    "    \"\"\"\n",
    "\n",
    "    # Prior ranges for the simulator\n",
    "    # drift ~ U(-3.0, 3.0)\n",
    "    # boundary ~ U(0.5, 4.0)\n",
    "    # beta ~ U(0.1, 0.9)  # relative start point\n",
    "    # mu_tau_e ~ U(0.05, 0.6)\n",
    "    # tau_m ~ U(0.06, 0.8)\n",
    "    # sigma ~ U(0, 0.3)\n",
    "    # varsigma ~ U(0, 0.3)\n",
    "    n_parameters = 7\n",
    "    p_samples = np.random.uniform(low=(-3.0, 0.5, 0.1, 0.05, 0.06, 0.0, 0.0),\n",
    "                                  high=(3.0, 2.0, 0.9, 0.6,  0.8,  0.3, 0.3), size=(batch_size, n_parameters))\n",
    "    return p_samples.astype(np.float32)\n",
    "\n",
    "@njit\n",
    "def diffusion_trial(drift, boundary, beta, mu_tau_e, tau_m, sigma, varsigma, dc=1.0, dt=.005):\n",
    "    \"\"\"Simulates a trial from the diffusion model.\"\"\"\n",
    "\n",
    "    n_steps = 0.\n",
    "    evidence = boundary * beta\n",
    "    \n",
    "    # Simulate a single DM path\n",
    "    while (evidence > 0 and evidence < boundary):\n",
    "\n",
    "        # DDM equation\n",
    "        evidence += drift*dt + np.sqrt(dt) * dc * np.random.normal()\n",
    "\n",
    "        # Increment step\n",
    "        n_steps += 1.0\n",
    "\n",
    "    rt = n_steps * dt\n",
    "\n",
    "    \n",
    "    # visual encoding time for each trial\n",
    "    tau_e_trial = np.random.normal(mu_tau_e, varsigma)\n",
    "\n",
    "    # N200 latency\n",
    "    z = np.random.normal(tau_e_trial, sigma)\n",
    "    \n",
    "    if evidence >= boundary:\n",
    "        choicert =  tau_e_trial + rt + tau_m\n",
    "        \n",
    "    else:\n",
    "        choicert = -tau_e_trial - rt - tau_m\n",
    "    return choicert, z\n",
    "\n",
    "@njit\n",
    "def diffusion_condition(params, n_trials):\n",
    "    \"\"\"Simulates a diffusion process over an entire condition.\"\"\"\n",
    "\n",
    "    drift, boundary, beta, mu_tau_e, tau_m, sigma, varsigma = params\n",
    "    choicert = np.empty(n_trials)\n",
    "    z = np.empty(n_trials)\n",
    "    for i in range(n_trials):\n",
    "        choicert[i], z[i] = diffusion_trial(drift, boundary, beta, mu_tau_e, tau_m, sigma, varsigma)\n",
    "    return choicert, z\n",
    "\n",
    "def batch_simulator(prior_samples, n_obs, dt=0.005, s=1.0):\n",
    "    \"\"\"\n",
    "    Simulate multiple diffusion_model_datasets.\n",
    "    \"\"\"\n",
    "\n",
    "    n_sim = prior_samples.shape[0]\n",
    "    sim_choicert = np.empty((n_sim, n_obs), dtype=np.float32)\n",
    "    sim_z = np.empty((n_sim, n_obs), dtype=np.float32)\n",
    "\n",
    "    # Simulate diffusion data\n",
    "    for i in range(n_sim):\n",
    "        sim_choicert[i], sim_z[i] = diffusion_condition(prior_samples[i], n_obs)\n",
    "\n",
    "    # For some reason BayesFlow wants there to be at least two data dimensions\n",
    "    sim_data = np.stack([sim_choicert, sim_z], axis=-1)\n",
    "    return sim_data\n",
    "\n",
    "# Connect the networks through a SingleModelAmortizer instance.\n",
    "summary_net = InvariantNetwork()\n",
    "inference_net = InvertibleNetwork({'n_params': 7})\n",
    "amortizer = SingleModelAmortizer(inference_net, summary_net)\n",
    "\n",
    "# Connect the prior and simulator through a GenerativeModel class which will take care of forward inference.\n",
    "generative_model = GenerativeModel(prior, batch_simulator)\n",
    "\n",
    "trainer = ParameterEstimationTrainer(\n",
    "    network=amortizer,\n",
    "    generative_model=generative_model,\n",
    "    checkpoint_path=\"../checkpoint/N200_single_trial\"\n",
    ")"
   ]
  },
  {
   "cell_type": "code",
   "execution_count": 49,
   "id": "87db8bbf-bf55-4555-aaae-38d11946b7a4",
   "metadata": {},
   "outputs": [],
   "source": [
    "data = pd.read_csv('N200_rt_window_150_275.csv')"
   ]
  },
  {
   "cell_type": "code",
   "execution_count": 60,
   "id": "d632c828-3eb3-45b8-9288-26a07519f936",
   "metadata": {
    "tags": []
   },
   "outputs": [],
   "source": [
    "data1 = data[(data[' True Subject Index'] == 13)&(data[' Experiment']==2)]"
   ]
  },
  {
   "cell_type": "code",
   "execution_count": 61,
   "id": "bb025bb9-93c6-472c-954c-86a14868085c",
   "metadata": {
    "tags": []
   },
   "outputs": [
    {
     "name": "stderr",
     "output_type": "stream",
     "text": [
      "/home/a.ghaderi/.conda/envs/envjm/lib/python3.7/site-packages/ipykernel_launcher.py:2: SettingWithCopyWarning: \n",
      "A value is trying to be set on a copy of a slice from a DataFrame.\n",
      "Try using .loc[row_indexer,col_indexer] = value instead\n",
      "\n",
      "See the caveats in the documentation: https://pandas.pydata.org/pandas-docs/stable/user_guide/indexing.html#returning-a-view-versus-a-copy\n",
      "  \n"
     ]
    }
   ],
   "source": [
    "# Convert 0,1 accuracy to -1,1 code\n",
    "data1[' Accuracy'] = data1[' Accuracy'].replace(0,-1)\n",
    "# Two different responses, [rt, N200 latency]\n",
    "data_rt_z = np.array([(data1[' RT']/1000)*data1[' Accuracy'], data1['# Single-trial N200 latencies']/1000]).T"
   ]
  },
  {
   "cell_type": "code",
   "execution_count": 62,
   "id": "4c8c5d08-b6ed-4c8f-b171-4dde09b4c1a5",
   "metadata": {},
   "outputs": [
    {
     "data": {
      "text/plain": [
       "(1934, 9)"
      ]
     },
     "execution_count": 62,
     "metadata": {},
     "output_type": "execute_result"
    }
   ],
   "source": [
    "data1.shape"
   ]
  },
  {
   "cell_type": "code",
   "execution_count": 63,
   "id": "eacff248-16a4-443e-b7c3-3e5c592016cb",
   "metadata": {
    "tags": []
   },
   "outputs": [],
   "source": [
    "# Validate (quick and dirty) by a specific real data\n",
    "n_param_sets = 1000\n",
    "n_samples = 1000\n",
    "\n",
    "param_samples_real_data = amortizer.sample(data_rt_z.reshape(1,data1.shape[0],2), n_samples=n_samples)"
   ]
  },
  {
   "cell_type": "code",
   "execution_count": 64,
   "id": "4ad2950c-04b3-4492-8d76-4f9eff7068fc",
   "metadata": {},
   "outputs": [
    {
     "name": "stdout",
     "output_type": "stream",
     "text": [
      "['drift', 'boundary', 'beta', 'mu_tau_e', 'mu_tau_m', 'sigma', 'varsigma']\n"
     ]
    },
    {
     "data": {
      "text/plain": [
       "array([0.8228193 , 1.273602  , 0.61792165, 0.20270243, 0.20550507,\n",
       "       0.00894003, 0.01326353], dtype=float32)"
      ]
     },
     "execution_count": 64,
     "metadata": {},
     "output_type": "execute_result"
    }
   ],
   "source": [
    "print(['drift', 'boundary', 'beta', 'mu_tau_e', 'mu_tau_m', 'sigma', 'varsigma']),\n",
    "param_samples_real_data.mean(axis=0)"
   ]
  },
  {
   "cell_type": "code",
   "execution_count": 65,
   "id": "d6f12333-2443-4026-9168-0351cfbbd9cb",
   "metadata": {},
   "outputs": [
    {
     "name": "stdout",
     "output_type": "stream",
     "text": [
      "['drift', 'boundary', 'beta', 'mu_tau_e', 'mu_tau_m', 'sigma', 'varsigma']\n"
     ]
    },
    {
     "data": {
      "text/plain": [
       "array([0.8228193 , 1.273602  , 0.61792165, 0.20270243, 0.20550507,\n",
       "       0.00894003, 0.01326353], dtype=float32)"
      ]
     },
     "execution_count": 65,
     "metadata": {},
     "output_type": "execute_result"
    }
   ],
   "source": [
    "print(['drift', 'boundary', 'beta', 'mu_tau_e', 'mu_tau_m', 'sigma', 'varsigma']),\n",
    "param_samples_real_data.mean(axis=0)"
   ]
  },
  {
   "cell_type": "code",
   "execution_count": 66,
   "id": "25aa43c0-0333-46b7-80f2-1470f3c5c4c1",
   "metadata": {},
   "outputs": [],
   "source": [
    "x_predict = batch_simulator(param_samples_real_data, 2000).astype(np.float32)"
   ]
  },
  {
   "cell_type": "code",
   "execution_count": 67,
   "id": "82ea3260-3514-4792-9faa-587e41b8c351",
   "metadata": {},
   "outputs": [
    {
     "data": {
      "text/plain": [
       "(1000, 2000, 2)"
      ]
     },
     "execution_count": 67,
     "metadata": {},
     "output_type": "execute_result"
    }
   ],
   "source": [
    "x_predict.shape"
   ]
  },
  {
   "cell_type": "code",
   "execution_count": 68,
   "id": "88b778d7-9ae5-407a-ae01-e2857bf5bdff",
   "metadata": {},
   "outputs": [
    {
     "name": "stderr",
     "output_type": "stream",
     "text": [
      "/home/a.ghaderi/.conda/envs/envjm/lib/python3.7/site-packages/seaborn/distributions.py:2619: FutureWarning: `distplot` is a deprecated function and will be removed in a future version. Please adapt your code to use either `displot` (a figure-level function with similar flexibility) or `kdeplot` (an axes-level function for kernel density plots).\n",
      "  warnings.warn(msg, FutureWarning)\n",
      "/home/a.ghaderi/.conda/envs/envjm/lib/python3.7/site-packages/seaborn/distributions.py:2619: FutureWarning: `distplot` is a deprecated function and will be removed in a future version. Please adapt your code to use either `displot` (a figure-level function with similar flexibility) or `kdeplot` (an axes-level function for kernel density plots).\n",
      "  warnings.warn(msg, FutureWarning)\n"
     ]
    },
    {
     "data": {
      "image/png": "[encoded data removed]",
      "text/plain": [
       "<Figure size 576x360 with 1 Axes>"
      ]
     },
     "metadata": {
      "needs_background": "light"
     },
     "output_type": "display_data"
    }
   ],
   "source": [
    "plt.figure(figsize=(8,5))\n",
    "sns.distplot(1000*np.abs(data_rt_z[:,1]), hist= False, bins =25)\n",
    "sns.distplot(1000*np.abs(x_predict.reshape(-1,2)[:,1]), hist=False)\n",
    "plt.xlabel('Time (msec)')\n",
    "plt.legend(['Obserbed N200 latencies', 'Predicted N200 latenices'])\n",
    "sns.despine()\n",
    "# plt.savefig('Figure/model1_n200.png')"
   ]
  },
  {
   "cell_type": "code",
   "execution_count": 69,
   "id": "17773b9c-2674-4a07-b1ed-46922d2b9838",
   "metadata": {},
   "outputs": [
    {
     "name": "stderr",
     "output_type": "stream",
     "text": [
      "/home/a.ghaderi/.conda/envs/envjm/lib/python3.7/site-packages/seaborn/distributions.py:2619: FutureWarning: `distplot` is a deprecated function and will be removed in a future version. Please adapt your code to use either `displot` (a figure-level function with similar flexibility) or `kdeplot` (an axes-level function for kernel density plots).\n",
      "  warnings.warn(msg, FutureWarning)\n"
     ]
    },
    {
     "data": {
      "image/png": "[encoded data removed]",
      "text/plain": [
       "<Figure size 576x360 with 1 Axes>"
      ]
     },
     "metadata": {
      "needs_background": "light"
     },
     "output_type": "display_data"
    }
   ],
   "source": [
    "plt.figure(figsize=(8,5))\n",
    "ax = plt.subplot()\n",
    "plt.hist(1000*data_rt_z[:,0], density=True, bins = 80)\n",
    "sns.distplot(1000*x_predict.reshape(-1,2)[:,0], hist=False)\n",
    "plt.legend(['Observed RT','Predicted RT'])\n",
    "plt.xlabel('Time (msec)')\n",
    "ax.set_xlim([-2000,2000])\n",
    "sns.despine()\n",
    "#plt.savefig('Figure/model1_rt.png')"
   ]
  },
  {
   "cell_type": "code",
   "execution_count": null,
   "id": "69343cdd-7afe-4dda-8bda-9bb2f42cf2a4",
   "metadata": {},
   "outputs": [],
   "source": []
  }
 ],
 "metadata": {
  "kernelspec": {
   "display_name": "Python 3",
   "language": "python",
   "name": "python3"
  },
  "language_info": {
   "codemirror_mode": {
    "name": "ipython",
    "version": 3
   },
   "file_extension": ".py",
   "mimetype": "text/x-python",
   "name": "python",
   "nbconvert_exporter": "python",
   "pygments_lexer": "ipython3",
   "version": "3.7.10"
  }
 },
 "nbformat": 4,
 "nbformat_minor": 5
}
